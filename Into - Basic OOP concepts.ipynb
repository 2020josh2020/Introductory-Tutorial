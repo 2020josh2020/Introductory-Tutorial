{
 "cells": [
  {
   "cell_type": "code",
   "execution_count": 1,
   "metadata": {},
   "outputs": [],
   "source": [
    "# Tutorial on OOP\n",
    "# material from - MIT Open Course Ware\n",
    "#                 Introduction to Computer Science\n",
    "#                 Programming in Python \n",
    "\n",
    "# creating a class \n",
    "# (object) - object is the most baisc type in python it is \n",
    "#            also the superclass in this case \n",
    "# Note: instead of passing in (object)- we can pass in a\n",
    "#       previously created class/type and the newly defined \n",
    "#       type will inherit all the attributes from the previously\n",
    "#       defined type \n",
    "\n",
    "# Attributes - data attributes and procedure attributes (also called methods)\n",
    "\n",
    "# __init__ - initializes the data structure, a special python method\n",
    "# for class creation - attributes that belong to an instance \n",
    "# are referred to as 'self'\n",
    "# 'x', 'y'.... - what other data we want when initalizing a object \n",
    "\n",
    "# define data attributes inside: \n",
    "# \n",
    "# def __init__(self,x,y)\n",
    "#   self.x = x \n",
    "#   self.y = y \n",
    "# \n",
    "#Note: attributes that belong to an instance are referred to as .self \n",
    "\n",
    "\n",
    "# When you create a class the init method is called \n",
    "\n",
    "# the self argument is used by python to impliciately make self the object \n",
    "# thus you pass in all the variables except for self\n",
    "\n",
    "# defining methods inside the class\n",
    "#     def name_of_method(self):\n",
    "#         mult = self.number*2 \n",
    "#         return mult\n",
    "\n",
    "# defining a custom print method with __str__\n",
    "# if you don't define special print method then when print is called\n",
    "# python will return a uninformative message referring to the objects \n",
    "# type and memory location but genearlly we want the attributes \n",
    "# of the object \n",
    "# we can choose what prints \n",
    "# we know its a special python method b/c of the double underscore __\n",
    "# def __str__(self):\n",
    "#    return \"your print statement\" + self.the_value_you_want\n",
    "\n",
    "# instantiate - the word for creating an object out of a template of some source"
   ]
  },
  {
   "cell_type": "code",
   "execution_count": 2,
   "metadata": {},
   "outputs": [],
   "source": [
    "class squirrel (object):\n",
    "    \"\"\"my triple quoted doc string\"\"\"\n",
    "    def __init__(self, first, last, number, color):\n",
    "        self.first = first\n",
    "        self.last = last \n",
    "        self.number = number\n",
    "        self.color = color\n",
    "        self.weight = \"\"\n",
    "    def mult(self):\n",
    "        mult = self.number*2\n",
    "        return mult\n",
    "    def __str__(self):\n",
    "        return \"object name \" + \"\\n\" + self.first +  \" color \" + self.color\n",
    "        # note: \"\\n\" for a line break \n",
    "    def weight(self, weight):\n",
    "        self.weight = weight\n",
    "        # with this method we can define the weight at a later time \n",
    "        "
   ]
  },
  {
   "cell_type": "code",
   "execution_count": 4,
   "metadata": {},
   "outputs": [],
   "source": [
    "x = squirrel(\"josh\", 'ua', 2020, 'blue')"
   ]
  },
  {
   "cell_type": "code",
   "execution_count": 5,
   "metadata": {},
   "outputs": [],
   "source": [
    "x.weight = 12"
   ]
  },
  {
   "cell_type": "code",
   "execution_count": 6,
   "metadata": {},
   "outputs": [
    {
     "data": {
      "text/plain": [
       "12"
      ]
     },
     "execution_count": 6,
     "metadata": {},
     "output_type": "execute_result"
    }
   ],
   "source": [
    "x.weight"
   ]
  },
  {
   "cell_type": "code",
   "execution_count": 7,
   "metadata": {},
   "outputs": [
    {
     "name": "stdout",
     "output_type": "stream",
     "text": [
      "object name \n",
      "josh color blue\n"
     ]
    }
   ],
   "source": [
    "print(x)"
   ]
  },
  {
   "cell_type": "code",
   "execution_count": 8,
   "metadata": {},
   "outputs": [
    {
     "data": {
      "text/plain": [
       "4040"
      ]
     },
     "execution_count": 8,
     "metadata": {},
     "output_type": "execute_result"
    }
   ],
   "source": [
    "x.mult()"
   ]
  },
  {
   "cell_type": "code",
   "execution_count": 9,
   "metadata": {},
   "outputs": [
    {
     "name": "stdout",
     "output_type": "stream",
     "text": [
      "josh\n",
      "2020\n"
     ]
    }
   ],
   "source": [
    "print(x.first)\n",
    "print(x.number)"
   ]
  },
  {
   "cell_type": "code",
   "execution_count": 10,
   "metadata": {},
   "outputs": [
    {
     "name": "stdout",
     "output_type": "stream",
     "text": [
      "object name \n",
      "josh color blue\n"
     ]
    }
   ],
   "source": [
    "print(x)"
   ]
  },
  {
   "cell_type": "code",
   "execution_count": null,
   "metadata": {},
   "outputs": [],
   "source": []
  },
  {
   "cell_type": "code",
   "execution_count": null,
   "metadata": {},
   "outputs": [],
   "source": []
  }
 ],
 "metadata": {
  "kernelspec": {
   "display_name": "Python 3",
   "language": "python",
   "name": "python3"
  },
  "language_info": {
   "codemirror_mode": {
    "name": "ipython",
    "version": 3
   },
   "file_extension": ".py",
   "mimetype": "text/x-python",
   "name": "python",
   "nbconvert_exporter": "python",
   "pygments_lexer": "ipython3",
   "version": "3.7.1"
  }
 },
 "nbformat": 4,
 "nbformat_minor": 2
}
